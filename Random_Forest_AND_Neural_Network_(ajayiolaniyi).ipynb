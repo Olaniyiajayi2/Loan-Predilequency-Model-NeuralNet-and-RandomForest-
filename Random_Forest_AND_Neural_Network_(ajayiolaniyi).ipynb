{
  "nbformat": 4,
  "nbformat_minor": 0,
  "metadata": {
    "colab": {
      "name": "Random Forest AND Neural Network (ajayiolaniyi).ipynb",
      "version": "0.3.2",
      "provenance": [],
      "collapsed_sections": []
    },
    "language_info": {
      "codemirror_mode": {
        "name": "ipython",
        "version": 3
      },
      "file_extension": ".py",
      "mimetype": "text/x-python",
      "name": "python",
      "nbconvert_exporter": "python",
      "pygments_lexer": "ipython3",
      "version": "3.6.5"
    },
    "kernelspec": {
      "name": "python3",
      "display_name": "Python 3"
    },
    "accelerator": "GPU"
  },
  "cells": [
    {
      "metadata": {
        "id": "aRkJSjSIuBxJ",
        "colab_type": "code",
        "outputId": "294b6b43-d781-452b-bcd5-f2cb8f322143",
        "colab": {
          "base_uri": "https://localhost:8080/",
          "height": 85
        }
      },
      "cell_type": "code",
      "source": [
        "import pandas as pd \n",
        "import numpy as np\n",
        "import matplotlib.pyplot as plt\n",
        "import seaborn as sns\n",
        "from sklearn.preprocessing import StandardScaler\n",
        "from sklearn.preprocessing import Imputer\n",
        "from sklearn.preprocessing import LabelEncoder\n",
        "from sklearn.model_selection import train_test_split, cross_validate\n",
        "from sklearn.ensemble import RandomForestClassifier\n",
        "from imblearn.over_sampling import SMOTE\n",
        "import statsmodels.api as sm\n",
        "from sklearn.metrics import confusion_matrix\n",
        "from sklearn.metrics import classification_report\n",
        "from sklearn.metrics import roc_auc_score\n",
        "from sklearn.metrics import roc_curve\n",
        "from sklearn.neural_network import MLPClassifier\n",
        "import warnings"
      ],
      "execution_count": 0,
      "outputs": [
        {
          "output_type": "stream",
          "text": [
            "/usr/local/lib/python3.6/dist-packages/statsmodels/compat/pandas.py:56: FutureWarning: The pandas.core.datetools module is deprecated and will be removed in a future version. Please use the pandas.tseries module instead.\n",
            "  from pandas.core import datetools\n"
          ],
          "name": "stderr"
        }
      ]
    },
    {
      "metadata": {
        "id": "byvGLoAKFw5V",
        "colab_type": "text"
      },
      "cell_type": "markdown",
      "source": [
        "# **Importing all important libraries**"
      ]
    },
    {
      "metadata": {
        "id": "sACiC9Fv_e3Z",
        "colab_type": "code",
        "colab": {}
      },
      "cell_type": "code",
      "source": [
        "warnings.filterwarnings(\"ignore\")"
      ],
      "execution_count": 0,
      "outputs": []
    },
    {
      "metadata": {
        "id": "ghqYZVROuBxP",
        "colab_type": "text"
      },
      "cell_type": "markdown",
      "source": [
        "## **Loading the Data**"
      ]
    },
    {
      "metadata": {
        "id": "e_eSlb2PuBxQ",
        "colab_type": "code",
        "outputId": "38173368-9ada-4fa1-950b-aa7c74a9a917",
        "colab": {
          "base_uri": "https://localhost:8080/",
          "height": 1185
        }
      },
      "cell_type": "code",
      "source": [
        "final_challenge  = pd.read_csv('FinalChallenge.csv')\n",
        "final_challenge.head()"
      ],
      "execution_count": 0,
      "outputs": [
        {
          "output_type": "error",
          "ename": "FileNotFoundError",
          "evalue": "ignored",
          "traceback": [
            "\u001b[0;31m---------------------------------------------------------------------------\u001b[0m",
            "\u001b[0;31mFileNotFoundError\u001b[0m                         Traceback (most recent call last)",
            "\u001b[0;32m<ipython-input-3-530b64d5e7da>\u001b[0m in \u001b[0;36m<module>\u001b[0;34m()\u001b[0m\n\u001b[0;32m----> 1\u001b[0;31m \u001b[0mfinal_challenge\u001b[0m  \u001b[0;34m=\u001b[0m \u001b[0mpd\u001b[0m\u001b[0;34m.\u001b[0m\u001b[0mread_csv\u001b[0m\u001b[0;34m(\u001b[0m\u001b[0;34m'FinalChallenge.csv'\u001b[0m\u001b[0;34m)\u001b[0m\u001b[0;34m\u001b[0m\u001b[0;34m\u001b[0m\u001b[0m\n\u001b[0m\u001b[1;32m      2\u001b[0m \u001b[0mfinal_challenge\u001b[0m\u001b[0;34m.\u001b[0m\u001b[0mhead\u001b[0m\u001b[0;34m(\u001b[0m\u001b[0;34m)\u001b[0m\u001b[0;34m\u001b[0m\u001b[0;34m\u001b[0m\u001b[0m\n",
            "\u001b[0;32m/usr/local/lib/python3.6/dist-packages/pandas/io/parsers.py\u001b[0m in \u001b[0;36mparser_f\u001b[0;34m(filepath_or_buffer, sep, delimiter, header, names, index_col, usecols, squeeze, prefix, mangle_dupe_cols, dtype, engine, converters, true_values, false_values, skipinitialspace, skiprows, nrows, na_values, keep_default_na, na_filter, verbose, skip_blank_lines, parse_dates, infer_datetime_format, keep_date_col, date_parser, dayfirst, iterator, chunksize, compression, thousands, decimal, lineterminator, quotechar, quoting, escapechar, comment, encoding, dialect, tupleize_cols, error_bad_lines, warn_bad_lines, skipfooter, doublequote, delim_whitespace, low_memory, memory_map, float_precision)\u001b[0m\n\u001b[1;32m    676\u001b[0m                     skip_blank_lines=skip_blank_lines)\n\u001b[1;32m    677\u001b[0m \u001b[0;34m\u001b[0m\u001b[0m\n\u001b[0;32m--> 678\u001b[0;31m         \u001b[0;32mreturn\u001b[0m \u001b[0m_read\u001b[0m\u001b[0;34m(\u001b[0m\u001b[0mfilepath_or_buffer\u001b[0m\u001b[0;34m,\u001b[0m \u001b[0mkwds\u001b[0m\u001b[0;34m)\u001b[0m\u001b[0;34m\u001b[0m\u001b[0;34m\u001b[0m\u001b[0m\n\u001b[0m\u001b[1;32m    679\u001b[0m \u001b[0;34m\u001b[0m\u001b[0m\n\u001b[1;32m    680\u001b[0m     \u001b[0mparser_f\u001b[0m\u001b[0;34m.\u001b[0m\u001b[0m__name__\u001b[0m \u001b[0;34m=\u001b[0m \u001b[0mname\u001b[0m\u001b[0;34m\u001b[0m\u001b[0;34m\u001b[0m\u001b[0m\n",
            "\u001b[0;32m/usr/local/lib/python3.6/dist-packages/pandas/io/parsers.py\u001b[0m in \u001b[0;36m_read\u001b[0;34m(filepath_or_buffer, kwds)\u001b[0m\n\u001b[1;32m    438\u001b[0m \u001b[0;34m\u001b[0m\u001b[0m\n\u001b[1;32m    439\u001b[0m     \u001b[0;31m# Create the parser.\u001b[0m\u001b[0;34m\u001b[0m\u001b[0;34m\u001b[0m\u001b[0;34m\u001b[0m\u001b[0m\n\u001b[0;32m--> 440\u001b[0;31m     \u001b[0mparser\u001b[0m \u001b[0;34m=\u001b[0m \u001b[0mTextFileReader\u001b[0m\u001b[0;34m(\u001b[0m\u001b[0mfilepath_or_buffer\u001b[0m\u001b[0;34m,\u001b[0m \u001b[0;34m**\u001b[0m\u001b[0mkwds\u001b[0m\u001b[0;34m)\u001b[0m\u001b[0;34m\u001b[0m\u001b[0;34m\u001b[0m\u001b[0m\n\u001b[0m\u001b[1;32m    441\u001b[0m \u001b[0;34m\u001b[0m\u001b[0m\n\u001b[1;32m    442\u001b[0m     \u001b[0;32mif\u001b[0m \u001b[0mchunksize\u001b[0m \u001b[0;32mor\u001b[0m \u001b[0miterator\u001b[0m\u001b[0;34m:\u001b[0m\u001b[0;34m\u001b[0m\u001b[0;34m\u001b[0m\u001b[0m\n",
            "\u001b[0;32m/usr/local/lib/python3.6/dist-packages/pandas/io/parsers.py\u001b[0m in \u001b[0;36m__init__\u001b[0;34m(self, f, engine, **kwds)\u001b[0m\n\u001b[1;32m    785\u001b[0m             \u001b[0mself\u001b[0m\u001b[0;34m.\u001b[0m\u001b[0moptions\u001b[0m\u001b[0;34m[\u001b[0m\u001b[0;34m'has_index_names'\u001b[0m\u001b[0;34m]\u001b[0m \u001b[0;34m=\u001b[0m \u001b[0mkwds\u001b[0m\u001b[0;34m[\u001b[0m\u001b[0;34m'has_index_names'\u001b[0m\u001b[0;34m]\u001b[0m\u001b[0;34m\u001b[0m\u001b[0;34m\u001b[0m\u001b[0m\n\u001b[1;32m    786\u001b[0m \u001b[0;34m\u001b[0m\u001b[0m\n\u001b[0;32m--> 787\u001b[0;31m         \u001b[0mself\u001b[0m\u001b[0;34m.\u001b[0m\u001b[0m_make_engine\u001b[0m\u001b[0;34m(\u001b[0m\u001b[0mself\u001b[0m\u001b[0;34m.\u001b[0m\u001b[0mengine\u001b[0m\u001b[0;34m)\u001b[0m\u001b[0;34m\u001b[0m\u001b[0;34m\u001b[0m\u001b[0m\n\u001b[0m\u001b[1;32m    788\u001b[0m \u001b[0;34m\u001b[0m\u001b[0m\n\u001b[1;32m    789\u001b[0m     \u001b[0;32mdef\u001b[0m \u001b[0mclose\u001b[0m\u001b[0;34m(\u001b[0m\u001b[0mself\u001b[0m\u001b[0;34m)\u001b[0m\u001b[0;34m:\u001b[0m\u001b[0;34m\u001b[0m\u001b[0;34m\u001b[0m\u001b[0m\n",
            "\u001b[0;32m/usr/local/lib/python3.6/dist-packages/pandas/io/parsers.py\u001b[0m in \u001b[0;36m_make_engine\u001b[0;34m(self, engine)\u001b[0m\n\u001b[1;32m   1012\u001b[0m     \u001b[0;32mdef\u001b[0m \u001b[0m_make_engine\u001b[0m\u001b[0;34m(\u001b[0m\u001b[0mself\u001b[0m\u001b[0;34m,\u001b[0m \u001b[0mengine\u001b[0m\u001b[0;34m=\u001b[0m\u001b[0;34m'c'\u001b[0m\u001b[0;34m)\u001b[0m\u001b[0;34m:\u001b[0m\u001b[0;34m\u001b[0m\u001b[0;34m\u001b[0m\u001b[0m\n\u001b[1;32m   1013\u001b[0m         \u001b[0;32mif\u001b[0m \u001b[0mengine\u001b[0m \u001b[0;34m==\u001b[0m \u001b[0;34m'c'\u001b[0m\u001b[0;34m:\u001b[0m\u001b[0;34m\u001b[0m\u001b[0;34m\u001b[0m\u001b[0m\n\u001b[0;32m-> 1014\u001b[0;31m             \u001b[0mself\u001b[0m\u001b[0;34m.\u001b[0m\u001b[0m_engine\u001b[0m \u001b[0;34m=\u001b[0m \u001b[0mCParserWrapper\u001b[0m\u001b[0;34m(\u001b[0m\u001b[0mself\u001b[0m\u001b[0;34m.\u001b[0m\u001b[0mf\u001b[0m\u001b[0;34m,\u001b[0m \u001b[0;34m**\u001b[0m\u001b[0mself\u001b[0m\u001b[0;34m.\u001b[0m\u001b[0moptions\u001b[0m\u001b[0;34m)\u001b[0m\u001b[0;34m\u001b[0m\u001b[0;34m\u001b[0m\u001b[0m\n\u001b[0m\u001b[1;32m   1015\u001b[0m         \u001b[0;32melse\u001b[0m\u001b[0;34m:\u001b[0m\u001b[0;34m\u001b[0m\u001b[0;34m\u001b[0m\u001b[0m\n\u001b[1;32m   1016\u001b[0m             \u001b[0;32mif\u001b[0m \u001b[0mengine\u001b[0m \u001b[0;34m==\u001b[0m \u001b[0;34m'python'\u001b[0m\u001b[0;34m:\u001b[0m\u001b[0;34m\u001b[0m\u001b[0;34m\u001b[0m\u001b[0m\n",
            "\u001b[0;32m/usr/local/lib/python3.6/dist-packages/pandas/io/parsers.py\u001b[0m in \u001b[0;36m__init__\u001b[0;34m(self, src, **kwds)\u001b[0m\n\u001b[1;32m   1706\u001b[0m         \u001b[0mkwds\u001b[0m\u001b[0;34m[\u001b[0m\u001b[0;34m'usecols'\u001b[0m\u001b[0;34m]\u001b[0m \u001b[0;34m=\u001b[0m \u001b[0mself\u001b[0m\u001b[0;34m.\u001b[0m\u001b[0musecols\u001b[0m\u001b[0;34m\u001b[0m\u001b[0;34m\u001b[0m\u001b[0m\n\u001b[1;32m   1707\u001b[0m \u001b[0;34m\u001b[0m\u001b[0m\n\u001b[0;32m-> 1708\u001b[0;31m         \u001b[0mself\u001b[0m\u001b[0;34m.\u001b[0m\u001b[0m_reader\u001b[0m \u001b[0;34m=\u001b[0m \u001b[0mparsers\u001b[0m\u001b[0;34m.\u001b[0m\u001b[0mTextReader\u001b[0m\u001b[0;34m(\u001b[0m\u001b[0msrc\u001b[0m\u001b[0;34m,\u001b[0m \u001b[0;34m**\u001b[0m\u001b[0mkwds\u001b[0m\u001b[0;34m)\u001b[0m\u001b[0;34m\u001b[0m\u001b[0;34m\u001b[0m\u001b[0m\n\u001b[0m\u001b[1;32m   1709\u001b[0m \u001b[0;34m\u001b[0m\u001b[0m\n\u001b[1;32m   1710\u001b[0m         \u001b[0mpassed_names\u001b[0m \u001b[0;34m=\u001b[0m \u001b[0mself\u001b[0m\u001b[0;34m.\u001b[0m\u001b[0mnames\u001b[0m \u001b[0;32mis\u001b[0m \u001b[0;32mNone\u001b[0m\u001b[0;34m\u001b[0m\u001b[0;34m\u001b[0m\u001b[0m\n",
            "\u001b[0;32mpandas/_libs/parsers.pyx\u001b[0m in \u001b[0;36mpandas._libs.parsers.TextReader.__cinit__\u001b[0;34m()\u001b[0m\n",
            "\u001b[0;32mpandas/_libs/parsers.pyx\u001b[0m in \u001b[0;36mpandas._libs.parsers.TextReader._setup_parser_source\u001b[0;34m()\u001b[0m\n",
            "\u001b[0;31mFileNotFoundError\u001b[0m: File b'FinalChallenge.csv' does not exist"
          ]
        }
      ]
    },
    {
      "metadata": {
        "id": "ibMyzonAuBxY",
        "colab_type": "text"
      },
      "cell_type": "markdown",
      "source": [
        "## **Descriptive Statistics of Data**"
      ]
    },
    {
      "metadata": {
        "id": "wOcnLlFTuBxa",
        "colab_type": "code",
        "outputId": "64d114b3-db60-4c6a-d106-ab684264d5fb",
        "colab": {
          "base_uri": "https://localhost:8080/",
          "height": 596
        }
      },
      "cell_type": "code",
      "source": [
        "final_challenge.info()"
      ],
      "execution_count": 0,
      "outputs": [
        {
          "output_type": "stream",
          "text": [
            "<class 'pandas.core.frame.DataFrame'>\n",
            "RangeIndex: 159596 entries, 0 to 159595\n",
            "Data columns (total 28 columns):\n",
            "loanId                       159596 non-null object\n",
            "clientIncome                 159596 non-null float64\n",
            "incomeVerified               159596 non-null object\n",
            "clientAge                    159596 non-null int64\n",
            "clientGender                 159596 non-null object\n",
            "clientMaritalStatus          159596 non-null object\n",
            "clientstate                  159596 non-null object\n",
            "clientTimeAtEmployer         159596 non-null object\n",
            "clientNumberPhoneContacts    159596 non-null object\n",
            "clientAvgCallsPerDay         159596 non-null object\n",
            "loanType                     159596 non-null object\n",
            "loanNumber                   159596 non-null int64\n",
            "applicationDate              159596 non-null object\n",
            "approvalDate                 159596 non-null object\n",
            "declinedDate                 159596 non-null object\n",
            "disbursementDate             159596 non-null object\n",
            "payout_status                159596 non-null object\n",
            "loanAmount                   159596 non-null int64\n",
            "interestRate                 159596 non-null float64\n",
            "loanTerm                     159596 non-null int64\n",
            "max_amount_taken             159596 non-null int64\n",
            "max_tenor_taken              159596 non-null int64\n",
            "paidAt                       159596 non-null object\n",
            "repaidDate                   159596 non-null object\n",
            "settleDays                   159596 non-null int64\n",
            "firstPaymentRatio            159596 non-null float64\n",
            "firstPaymentDefault          159596 non-null int64\n",
            "loanDefault                  159596 non-null int64\n",
            "dtypes: float64(3), int64(9), object(16)\n",
            "memory usage: 34.1+ MB\n"
          ],
          "name": "stdout"
        }
      ]
    },
    {
      "metadata": {
        "id": "7CiXzy0tuBxf",
        "colab_type": "code",
        "outputId": "4df187ee-0867-42a7-e595-2677f2f0ac90",
        "colab": {
          "base_uri": "https://localhost:8080/",
          "height": 490
        }
      },
      "cell_type": "code",
      "source": [
        "final_challenge.describe().transpose()"
      ],
      "execution_count": 0,
      "outputs": [
        {
          "output_type": "execute_result",
          "data": {
            "text/html": [
              "<div>\n",
              "<style scoped>\n",
              "    .dataframe tbody tr th:only-of-type {\n",
              "        vertical-align: middle;\n",
              "    }\n",
              "\n",
              "    .dataframe tbody tr th {\n",
              "        vertical-align: top;\n",
              "    }\n",
              "\n",
              "    .dataframe thead th {\n",
              "        text-align: right;\n",
              "    }\n",
              "</style>\n",
              "<table border=\"1\" class=\"dataframe\">\n",
              "  <thead>\n",
              "    <tr style=\"text-align: right;\">\n",
              "      <th></th>\n",
              "      <th>count</th>\n",
              "      <th>mean</th>\n",
              "      <th>std</th>\n",
              "      <th>min</th>\n",
              "      <th>25%</th>\n",
              "      <th>50%</th>\n",
              "      <th>75%</th>\n",
              "      <th>max</th>\n",
              "    </tr>\n",
              "  </thead>\n",
              "  <tbody>\n",
              "    <tr>\n",
              "      <th>clientIncome</th>\n",
              "      <td>159596.0</td>\n",
              "      <td>90839.055766</td>\n",
              "      <td>97280.332866</td>\n",
              "      <td>30.0</td>\n",
              "      <td>35000.0</td>\n",
              "      <td>55116.21</td>\n",
              "      <td>105000.0</td>\n",
              "      <td>3925000.0</td>\n",
              "    </tr>\n",
              "    <tr>\n",
              "      <th>clientAge</th>\n",
              "      <td>159596.0</td>\n",
              "      <td>33.691847</td>\n",
              "      <td>7.180870</td>\n",
              "      <td>18.0</td>\n",
              "      <td>28.0</td>\n",
              "      <td>33.00</td>\n",
              "      <td>38.0</td>\n",
              "      <td>138.0</td>\n",
              "    </tr>\n",
              "    <tr>\n",
              "      <th>loanNumber</th>\n",
              "      <td>159596.0</td>\n",
              "      <td>3.556806</td>\n",
              "      <td>2.471578</td>\n",
              "      <td>1.0</td>\n",
              "      <td>2.0</td>\n",
              "      <td>3.00</td>\n",
              "      <td>4.0</td>\n",
              "      <td>32.0</td>\n",
              "    </tr>\n",
              "    <tr>\n",
              "      <th>loanAmount</th>\n",
              "      <td>159596.0</td>\n",
              "      <td>35324.184190</td>\n",
              "      <td>27840.824297</td>\n",
              "      <td>11000.0</td>\n",
              "      <td>20000.0</td>\n",
              "      <td>25500.00</td>\n",
              "      <td>37500.0</td>\n",
              "      <td>500000.0</td>\n",
              "    </tr>\n",
              "    <tr>\n",
              "      <th>interestRate</th>\n",
              "      <td>159596.0</td>\n",
              "      <td>13.331235</td>\n",
              "      <td>4.467938</td>\n",
              "      <td>4.5</td>\n",
              "      <td>10.0</td>\n",
              "      <td>12.50</td>\n",
              "      <td>15.0</td>\n",
              "      <td>20.0</td>\n",
              "    </tr>\n",
              "    <tr>\n",
              "      <th>loanTerm</th>\n",
              "      <td>159596.0</td>\n",
              "      <td>85.385599</td>\n",
              "      <td>39.323756</td>\n",
              "      <td>60.0</td>\n",
              "      <td>60.0</td>\n",
              "      <td>60.00</td>\n",
              "      <td>90.0</td>\n",
              "      <td>180.0</td>\n",
              "    </tr>\n",
              "    <tr>\n",
              "      <th>max_amount_taken</th>\n",
              "      <td>159596.0</td>\n",
              "      <td>0.705275</td>\n",
              "      <td>0.455921</td>\n",
              "      <td>0.0</td>\n",
              "      <td>0.0</td>\n",
              "      <td>1.00</td>\n",
              "      <td>1.0</td>\n",
              "      <td>1.0</td>\n",
              "    </tr>\n",
              "    <tr>\n",
              "      <th>max_tenor_taken</th>\n",
              "      <td>159596.0</td>\n",
              "      <td>0.915374</td>\n",
              "      <td>0.278325</td>\n",
              "      <td>0.0</td>\n",
              "      <td>1.0</td>\n",
              "      <td>1.00</td>\n",
              "      <td>1.0</td>\n",
              "      <td>1.0</td>\n",
              "    </tr>\n",
              "    <tr>\n",
              "      <th>settleDays</th>\n",
              "      <td>159596.0</td>\n",
              "      <td>32.602127</td>\n",
              "      <td>84.552571</td>\n",
              "      <td>-32.0</td>\n",
              "      <td>-2.0</td>\n",
              "      <td>0.00</td>\n",
              "      <td>13.0</td>\n",
              "      <td>386.0</td>\n",
              "    </tr>\n",
              "    <tr>\n",
              "      <th>firstPaymentRatio</th>\n",
              "      <td>159596.0</td>\n",
              "      <td>0.097991</td>\n",
              "      <td>0.278058</td>\n",
              "      <td>0.0</td>\n",
              "      <td>0.0</td>\n",
              "      <td>0.00</td>\n",
              "      <td>0.0</td>\n",
              "      <td>1.0</td>\n",
              "    </tr>\n",
              "    <tr>\n",
              "      <th>firstPaymentDefault</th>\n",
              "      <td>159596.0</td>\n",
              "      <td>0.294268</td>\n",
              "      <td>0.455714</td>\n",
              "      <td>0.0</td>\n",
              "      <td>0.0</td>\n",
              "      <td>0.00</td>\n",
              "      <td>1.0</td>\n",
              "      <td>1.0</td>\n",
              "    </tr>\n",
              "    <tr>\n",
              "      <th>loanDefault</th>\n",
              "      <td>159596.0</td>\n",
              "      <td>0.093173</td>\n",
              "      <td>0.290675</td>\n",
              "      <td>0.0</td>\n",
              "      <td>0.0</td>\n",
              "      <td>0.00</td>\n",
              "      <td>0.0</td>\n",
              "      <td>1.0</td>\n",
              "    </tr>\n",
              "  </tbody>\n",
              "</table>\n",
              "</div>"
            ],
            "text/plain": [
              "                        count          mean           std      min      25%  \\\n",
              "clientIncome         159596.0  90839.055766  97280.332866     30.0  35000.0   \n",
              "clientAge            159596.0     33.691847      7.180870     18.0     28.0   \n",
              "loanNumber           159596.0      3.556806      2.471578      1.0      2.0   \n",
              "loanAmount           159596.0  35324.184190  27840.824297  11000.0  20000.0   \n",
              "interestRate         159596.0     13.331235      4.467938      4.5     10.0   \n",
              "loanTerm             159596.0     85.385599     39.323756     60.0     60.0   \n",
              "max_amount_taken     159596.0      0.705275      0.455921      0.0      0.0   \n",
              "max_tenor_taken      159596.0      0.915374      0.278325      0.0      1.0   \n",
              "settleDays           159596.0     32.602127     84.552571    -32.0     -2.0   \n",
              "firstPaymentRatio    159596.0      0.097991      0.278058      0.0      0.0   \n",
              "firstPaymentDefault  159596.0      0.294268      0.455714      0.0      0.0   \n",
              "loanDefault          159596.0      0.093173      0.290675      0.0      0.0   \n",
              "\n",
              "                          50%       75%        max  \n",
              "clientIncome         55116.21  105000.0  3925000.0  \n",
              "clientAge               33.00      38.0      138.0  \n",
              "loanNumber               3.00       4.0       32.0  \n",
              "loanAmount           25500.00   37500.0   500000.0  \n",
              "interestRate            12.50      15.0       20.0  \n",
              "loanTerm                60.00      90.0      180.0  \n",
              "max_amount_taken         1.00       1.0        1.0  \n",
              "max_tenor_taken          1.00       1.0        1.0  \n",
              "settleDays               0.00      13.0      386.0  \n",
              "firstPaymentRatio        0.00       0.0        1.0  \n",
              "firstPaymentDefault      0.00       1.0        1.0  \n",
              "loanDefault              0.00       0.0        1.0  "
            ]
          },
          "metadata": {
            "tags": []
          },
          "execution_count": 74
        }
      ]
    },
    {
      "metadata": {
        "id": "8xTAbAIZuBxj",
        "colab_type": "code",
        "outputId": "41933675-33c3-4847-9148-072c9785a8ba",
        "colab": {
          "base_uri": "https://localhost:8080/",
          "height": 36
        }
      },
      "cell_type": "code",
      "source": [
        "final_challenge.shape"
      ],
      "execution_count": 0,
      "outputs": [
        {
          "output_type": "execute_result",
          "data": {
            "text/plain": [
              "(159596, 28)"
            ]
          },
          "metadata": {
            "tags": []
          },
          "execution_count": 13
        }
      ]
    },
    {
      "metadata": {
        "id": "hTQ8DOakuBxo",
        "colab_type": "text"
      },
      "cell_type": "markdown",
      "source": [
        "# **copying the data for Exploratory Analysis**\n",
        "\n"
      ]
    },
    {
      "metadata": {
        "id": "v4p8y2ULuBxp",
        "colab_type": "code",
        "colab": {}
      },
      "cell_type": "code",
      "source": [
        "EDA_data = final_challenge.copy()"
      ],
      "execution_count": 0,
      "outputs": []
    },
    {
      "metadata": {
        "id": "nyKd1A0FoPFz",
        "colab_type": "text"
      },
      "cell_type": "markdown",
      "source": [
        "### **Univariate Analysis**\n",
        "Univariate analysis is the simplest form of analyzing data where we examine each variable individually. "
      ]
    },
    {
      "metadata": {
        "id": "EyCjiKowofD0",
        "colab_type": "text"
      },
      "cell_type": "markdown",
      "source": [
        "We will first look at the target variable, i.e., loanDefault. As it is a categorical variable, let us look at its frequency table, percentage distribution and bar plot."
      ]
    },
    {
      "metadata": {
        "id": "-Gap2q8fo433",
        "colab_type": "code",
        "outputId": "e1af0f9c-7703-42f9-9009-2213610ab144",
        "colab": {
          "base_uri": "https://localhost:8080/",
          "height": 71
        }
      },
      "cell_type": "code",
      "source": [
        "EDA_data['loanDefault'].value_counts(normalize = True)"
      ],
      "execution_count": 0,
      "outputs": [
        {
          "output_type": "execute_result",
          "data": {
            "text/plain": [
              "0    0.906827\n",
              "1    0.093173\n",
              "Name: loanDefault, dtype: float64"
            ]
          },
          "metadata": {
            "tags": []
          },
          "execution_count": 17
        }
      ]
    },
    {
      "metadata": {
        "id": "CxU4jjqPpJ7E",
        "colab_type": "code",
        "outputId": "33082494-026f-449a-9a70-0c8a76ab6288",
        "colab": {
          "base_uri": "https://localhost:8080/",
          "height": 361
        }
      },
      "cell_type": "code",
      "source": [
        "#@title The loan of 14870(around 9.3%) people out of 159596 was approved.\n",
        "EDA_data['loanDefault'].value_counts().plot.bar()"
      ],
      "execution_count": 0,
      "outputs": [
        {
          "output_type": "execute_result",
          "data": {
            "text/plain": [
              "<matplotlib.axes._subplots.AxesSubplot at 0x7f0f78cd06d8>"
            ]
          },
          "metadata": {
            "tags": []
          },
          "execution_count": 76
        },
        {
          "output_type": "display_data",
          "data": {
            "image/png": "[encoded data removed]",
            "text/plain": [
              "<Figure size 576x396 with 1 Axes>"
            ]
          },
          "metadata": {
            "tags": []
          }
        }
      ]
    },
    {
      "metadata": {
        "id": "GpjR7GdxrvFl",
        "colab_type": "text"
      },
      "cell_type": "markdown",
      "source": [
        "**We also visualize each variable seperately**"
      ]
    },
    {
      "metadata": {
        "id": "FpFFfh8Lr7hC",
        "colab_type": "text"
      },
      "cell_type": "markdown",
      "source": [
        "Independent variable (**Categorical**)\n",
        "categorical variables are Gender, Marrital Status, State.\n"
      ]
    },
    {
      "metadata": {
        "id": "BC_iQ_tBsa_P",
        "colab_type": "code",
        "outputId": "8e49ece5-89fb-4471-a347-d1d394102bfd",
        "colab": {
          "base_uri": "https://localhost:8080/",
          "height": 730
        }
      },
      "cell_type": "code",
      "source": [
        "plt.figure(1)\n",
        "plt.subplot(221)\n",
        "EDA_data['clientGender'].value_counts(normalize = True).plot.bar(figsize = (20,10), title = 'Gender')\n",
        "plt.subplot(222)\n",
        "EDA_data['clientMaritalStatus'].value_counts(normalize = True).plot.bar(figsize = (20,10), title = 'MaritalStatus')\n",
        "plt.subplot(223)\n",
        "EDA_data['clientstate'].value_counts(normalize = True).plot.bar(figsize = (20,10), title = 'State')\n",
        "plt.show()"
      ],
      "execution_count": 0,
      "outputs": [
        {
          "output_type": "display_data",
          "data": {
            "image/png": "[encoded data removed]",
            "text/plain": [
              "<Figure size 1440x720 with 3 Axes>"
            ]
          },
          "metadata": {
            "tags": []
          }
        }
      ]
    },
    {
      "metadata": {
        "id": "ECbpoViTvAAG",
        "colab_type": "text"
      },
      "cell_type": "markdown",
      "source": [
        "It can be inferred from the above bar plots that:\n",
        "\n",
        "70% applicants in the dataset are male.\n",
        "Around 55% of the applicants in the dataset are married.\n",
        "Around 40% applicants are in Lagos state."
      ]
    },
    {
      "metadata": {
        "id": "7bke7PAcwk7J",
        "colab_type": "text"
      },
      "cell_type": "markdown",
      "source": [
        "## Independent Variable (**Numerical**)"
      ]
    },
    {
      "metadata": {
        "id": "a8IqyYaEw2f7",
        "colab_type": "code",
        "outputId": "0f96922e-5016-4c5a-800a-410b80a7ce75",
        "colab": {
          "base_uri": "https://localhost:8080/",
          "height": 751
        }
      },
      "cell_type": "code",
      "source": [
        "plt.figure(1)\n",
        "plt.subplot(121)\n",
        "sns.distplot(EDA_data['clientIncome'])\n",
        "plt.subplot(122)\n",
        "EDA_data['clientIncome'].plot.box(figsize = (20, 10))\n",
        "plt.show()"
      ],
      "execution_count": 0,
      "outputs": [
        {
          "output_type": "stream",
          "text": [
            "/usr/local/lib/python3.6/dist-packages/matplotlib/axes/_axes.py:6521: MatplotlibDeprecationWarning: \n",
            "The 'normed' kwarg was deprecated in Matplotlib 2.1 and will be removed in 3.1. Use 'density' instead.\n",
            "  alternative=\"'density'\", removal=\"3.1\")\n"
          ],
          "name": "stderr"
        },
        {
          "output_type": "display_data",
          "data": {
            "image/png": "[encoded data removed]",
            "text/plain": [
              "<Figure size 1440x720 with 2 Axes>"
            ]
          },
          "metadata": {
            "tags": []
          }
        }
      ]
    },
    {
      "metadata": {
        "id": "bVvQ7FnHxo--",
        "colab_type": "text"
      },
      "cell_type": "markdown",
      "source": [
        "It can be inferred that most of the data in the distribution of client income is towards left which means it is not normally distributed.\n",
        "The boxplot confirms the absence of outliers."
      ]
    },
    {
      "metadata": {
        "id": "dZWw3s3FyQdF",
        "colab_type": "text"
      },
      "cell_type": "markdown",
      "source": [
        "Let's look at the **max_amount _taken** Variable"
      ]
    },
    {
      "metadata": {
        "id": "XSpzaSHpzYQe",
        "colab_type": "text"
      },
      "cell_type": "markdown",
      "source": [
        "## **Bivariate Analysis**"
      ]
    },
    {
      "metadata": {
        "id": "UXroWEmBzgWn",
        "colab_type": "text"
      },
      "cell_type": "markdown",
      "source": [
        "After looking at some variable individually in univariate analysis, we will now explore them again with respect to the target variable."
      ]
    },
    {
      "metadata": {
        "id": "JZA0bapUzyxy",
        "colab_type": "text"
      },
      "cell_type": "markdown",
      "source": [
        "### **Categorical Independent Variable vs Target Variable**"
      ]
    },
    {
      "metadata": {
        "id": "sglvEIgFzfJe",
        "colab_type": "code",
        "outputId": "9223ff72-fcc0-44d8-b06f-be42b8d831a6",
        "colab": {
          "base_uri": "https://localhost:8080/",
          "height": 329
        }
      },
      "cell_type": "code",
      "source": [
        "client_gender = pd.crosstab(EDA_data['clientGender'], EDA_data['loanDefault'])\n",
        "client_gender.div(client_gender.sum(1).astype(float), axis = 0).plot(kind='bar', stacked = True, figsize=(4,4))"
      ],
      "execution_count": 0,
      "outputs": [
        {
          "output_type": "execute_result",
          "data": {
            "text/plain": [
              "<matplotlib.axes._subplots.AxesSubplot at 0x7f0f78887f60>"
            ]
          },
          "metadata": {
            "tags": []
          },
          "execution_count": 78
        },
        {
          "output_type": "display_data",
          "data": {
            "image/png": "[encoded data removed]",
            "text/plain": [
              "<Figure size 288x288 with 1 Axes>"
            ]
          },
          "metadata": {
            "tags": []
          }
        }
      ]
    },
    {
      "metadata": {
        "id": "Ui1XDXG40iWu",
        "colab_type": "text"
      },
      "cell_type": "markdown",
      "source": [
        "It can be inferred that the proportion of male and female applicants is more or less same for both approved and unapproved loans."
      ]
    },
    {
      "metadata": {
        "id": "s6XvBW_c0oL6",
        "colab_type": "code",
        "outputId": "4679e1fe-c1ef-4869-a6c0-94902f90a181",
        "colab": {
          "base_uri": "https://localhost:8080/",
          "height": 637
        }
      },
      "cell_type": "code",
      "source": [
        "client_marital = pd.crosstab(EDA_data['clientMaritalStatus'], EDA_data['loanDefault'])\n",
        "client_state = pd.crosstab(EDA_data['clientstate'], EDA_data['loanDefault'])\n",
        "client_marital.div(client_marital.sum(1).astype(float), axis = 0).plot(kind='bar', stacked = True, figsize=(4,4))\n",
        "client_state.div(client_state.sum(1).astype(float), axis = 0).plot(kind='bar', stacked = True, figsize=(4,4))\n",
        "plt.show()"
      ],
      "execution_count": 0,
      "outputs": [
        {
          "output_type": "display_data",
          "data": {
            "image/png": "[encoded data removed]",
            "text/plain": [
              "<Figure size 288x288 with 1 Axes>"
            ]
          },
          "metadata": {
            "tags": []
          }
        },
        {
          "output_type": "display_data",
          "data": {
            "image/png": "[encoded data removed]",
            "text/plain": [
              "<Figure size 288x288 with 1 Axes>"
            ]
          },
          "metadata": {
            "tags": []
          }
        }
      ]
    },
    {
      "metadata": {
        "id": "Qf6nIdQY0moq",
        "colab_type": "text"
      },
      "cell_type": "markdown",
      "source": [
        "### **Numerical Independent Variable vs Target Variable**"
      ]
    },
    {
      "metadata": {
        "id": "hDRyZh_Y1-dt",
        "colab_type": "text"
      },
      "cell_type": "markdown",
      "source": [
        "We will try to find the mean income of people for which the loan has been approved vs the mean income of people for which the loan has not been approved."
      ]
    },
    {
      "metadata": {
        "id": "lgjF1faw2F-B",
        "colab_type": "code",
        "outputId": "85110323-e524-47f1-ed4c-adc4f0169733",
        "colab": {
          "base_uri": "https://localhost:8080/",
          "height": 376
        }
      },
      "cell_type": "code",
      "source": [
        "EDA_data.groupby('loanDefault')['clientIncome'].mean().plot.bar()"
      ],
      "execution_count": 0,
      "outputs": [
        {
          "output_type": "execute_result",
          "data": {
            "text/plain": [
              "<matplotlib.axes._subplots.AxesSubplot at 0x7f0f7b5a2a90>"
            ]
          },
          "metadata": {
            "tags": []
          },
          "execution_count": 29
        },
        {
          "output_type": "display_data",
          "data": {
            "image/png": "[encoded data removed]",
            "text/plain": [
              "<Figure size 576x396 with 1 Axes>"
            ]
          },
          "metadata": {
            "tags": []
          }
        }
      ]
    },
    {
      "metadata": {
        "id": "wZRYDXa92mIu",
        "colab_type": "text"
      },
      "cell_type": "markdown",
      "source": [
        "Interesting!!!!!! We can see that even client with high income have there loan decliened.\n",
        "let's make bins for the client income variable based on the values in it"
      ]
    },
    {
      "metadata": {
        "id": "mGno8hxQ3L-s",
        "colab_type": "code",
        "outputId": "1767468f-6d00-4b1a-8b0e-af555593a476",
        "colab": {
          "base_uri": "https://localhost:8080/",
          "height": 411
        }
      },
      "cell_type": "code",
      "source": [
        "bins=[0,2500,4000,6000,81000]\n",
        "group=['Low','Average','High', 'Very high']\n",
        "EDA_data['Income_bin']=pd.cut(EDA_data['clientIncome'],bins,labels=group)\n",
        "Income_bin=pd.crosstab(EDA_data['Income_bin'],EDA_data['loanDefault'])\n",
        "Income_bin.div(Income_bin.sum(1).astype(float), axis=0).plot(kind=\"bar\", stacked=True)\n",
        "plt.xlabel('clientIncome')\n",
        "plt.ylabel('Percentage')"
      ],
      "execution_count": 0,
      "outputs": [
        {
          "output_type": "execute_result",
          "data": {
            "text/plain": [
              "Text(0, 0.5, 'Percentage')"
            ]
          },
          "metadata": {
            "tags": []
          },
          "execution_count": 80
        },
        {
          "output_type": "display_data",
          "data": {
            "image/png": "[encoded data removed]",
            "text/plain": [
              "<Figure size 576x396 with 1 Axes>"
            ]
          },
          "metadata": {
            "tags": []
          }
        }
      ]
    },
    {
      "metadata": {
        "id": "sMDaejt84QGY",
        "colab_type": "text"
      },
      "cell_type": "markdown",
      "source": [
        "It can be inferred from here that client income does not affect the chances of loan approval which contradicts our hypothesis in which we assumed that if the applicant income is high the chances of loan approval will also be high."
      ]
    },
    {
      "metadata": {
        "id": "Ksv8S0Wk4g0e",
        "colab_type": "text"
      },
      "cell_type": "markdown",
      "source": [
        "### Now lets look at the correlation between all the numerical variables. "
      ]
    },
    {
      "metadata": {
        "id": "jGfKwYMN4dfM",
        "colab_type": "code",
        "outputId": "9d64c0bd-d911-4f55-9090-4a6009156a42",
        "colab": {
          "base_uri": "https://localhost:8080/",
          "height": 471
        }
      },
      "cell_type": "code",
      "source": [
        "num_corr = EDA_data.corr()\n",
        "f, ax = plt.subplots(figsize=(9,6))\n",
        "sns.heatmap(num_corr, vmax = .8, square = True, cmap='BuPu')"
      ],
      "execution_count": 0,
      "outputs": [
        {
          "output_type": "execute_result",
          "data": {
            "text/plain": [
              "<matplotlib.axes._subplots.AxesSubplot at 0x7f0f7b1a9e80>"
            ]
          },
          "metadata": {
            "tags": []
          },
          "execution_count": 36
        },
        {
          "output_type": "display_data",
          "data": {
            "image/png": "[encoded data removed]",
            "text/plain": [
              "<Figure size 648x432 with 2 Axes>"
            ]
          },
          "metadata": {
            "tags": []
          }
        }
      ]
    },
    {
      "metadata": {
        "id": "DMY4W45r5ffE",
        "colab_type": "text"
      },
      "cell_type": "markdown",
      "source": [
        "We see that the most correlated variables are (clientIncome - LoanAmount), (settleDays - firstPaymentRatio), (loanTerm - loanAmount), (max_amount_taken - max_tenor_taken), and so on.\n",
        "\n",
        "**The variables with darker color means their correlation is more. **"
      ]
    },
    {
      "metadata": {
        "id": "mfbCbFM_uBxt",
        "colab_type": "text"
      },
      "cell_type": "markdown",
      "source": [
        "## **Treating Missing Values**\n",
        "After exploring the variables in our data, we can now impute the missing values."
      ]
    },
    {
      "metadata": {
        "id": "EilKxeC16qQJ",
        "colab_type": "code",
        "outputId": "60df67f9-0908-41aa-9598-4b18fdc37e45",
        "colab": {
          "base_uri": "https://localhost:8080/",
          "height": 526
        }
      },
      "cell_type": "code",
      "source": [
        "final_challenge.isnull().sum()"
      ],
      "execution_count": 0,
      "outputs": [
        {
          "output_type": "execute_result",
          "data": {
            "text/plain": [
              "loanId                       0\n",
              "clientIncome                 0\n",
              "incomeVerified               0\n",
              "clientAge                    0\n",
              "clientGender                 0\n",
              "clientMaritalStatus          0\n",
              "clientstate                  0\n",
              "clientTimeAtEmployer         0\n",
              "clientNumberPhoneContacts    0\n",
              "clientAvgCallsPerDay         0\n",
              "loanType                     0\n",
              "loanNumber                   0\n",
              "applicationDate              0\n",
              "approvalDate                 0\n",
              "declinedDate                 0\n",
              "disbursementDate             0\n",
              "payout_status                0\n",
              "loanAmount                   0\n",
              "interestRate                 0\n",
              "loanTerm                     0\n",
              "max_amount_taken             0\n",
              "max_tenor_taken              0\n",
              "paidAt                       0\n",
              "repaidDate                   0\n",
              "settleDays                   0\n",
              "firstPaymentRatio            0\n",
              "firstPaymentDefault          0\n",
              "loanDefault                  0\n",
              "dtype: int64"
            ]
          },
          "metadata": {
            "tags": []
          },
          "execution_count": 37
        }
      ]
    },
    {
      "metadata": {
        "id": "qaK__CHz7FcX",
        "colab_type": "text"
      },
      "cell_type": "markdown",
      "source": [
        "Luckily, our data is clean, and we have no missing values"
      ]
    },
    {
      "metadata": {
        "id": "_H1r90ViGJua",
        "colab_type": "text"
      },
      "cell_type": "markdown",
      "source": [
        "## **Encoding categorical features**\n",
        "Machine learning models does not accept texts as the input, hence the need to encode our categorical variable. Here, I have used the sklearn 'LabelEncoder' to encode the categorical variables\n"
      ]
    },
    {
      "metadata": {
        "id": "UbPwgCahuBx0",
        "colab_type": "code",
        "colab": {}
      },
      "cell_type": "code",
      "source": [
        "label = LabelEncoder()\n",
        "final_challenge['clientGender'] = label.fit_transform(final_challenge['clientGender'])\n",
        "final_challenge['clientMaritalStatus'] = label.fit_transform(final_challenge['clientMaritalStatus'])\n",
        "final_challenge['clientstate'] = label.fit_transform(final_challenge['clientstate'])"
      ],
      "execution_count": 0,
      "outputs": []
    },
    {
      "metadata": {
        "id": "loxioQJo8FCy",
        "colab_type": "text"
      },
      "cell_type": "markdown",
      "source": [
        "I will also be dropping some columns that will not be used in building the model"
      ]
    },
    {
      "metadata": {
        "id": "SAC6fHH68DmR",
        "colab_type": "code",
        "colab": {}
      },
      "cell_type": "code",
      "source": [
        "unused = ['loanId', 'clientTimeAtEmployer', 'loanType', 'clientNumberPhoneContacts', 'applicationDate', 'approvalDate', 'declinedDate', 'disbursementDate', 'payout_status', 'paidAt', 'repaidDate', 'incomeVerified', 'clientAvgCallsPerDay']\n",
        "final_challenge.drop(unused, axis = 1, inplace = True);"
      ],
      "execution_count": 0,
      "outputs": []
    },
    {
      "metadata": {
        "id": "7O8t1MRTuBx_",
        "colab_type": "code",
        "outputId": "5999d0a9-d9ae-4f87-d126-f11af0ddb1ef",
        "colab": {
          "base_uri": "https://localhost:8080/",
          "height": 36
        }
      },
      "cell_type": "code",
      "source": [
        "final_challenge.shape"
      ],
      "execution_count": 0,
      "outputs": [
        {
          "output_type": "execute_result",
          "data": {
            "text/plain": [
              "(159596, 15)"
            ]
          },
          "metadata": {
            "tags": []
          },
          "execution_count": 82
        }
      ]
    },
    {
      "metadata": {
        "id": "-gOtl8ueuByF",
        "colab_type": "text"
      },
      "cell_type": "markdown",
      "source": [
        "### **Replacing Null values with 0 in the new dataframe**"
      ]
    },
    {
      "metadata": {
        "id": "OnmIWnhguByG",
        "colab_type": "code",
        "colab": {}
      },
      "cell_type": "code",
      "source": [
        "final_challenge.fillna(0);"
      ],
      "execution_count": 0,
      "outputs": []
    },
    {
      "metadata": {
        "id": "McqGRXSF9cLW",
        "colab_type": "text"
      },
      "cell_type": "markdown",
      "source": [
        "# **Building the Model (Random Forest)**"
      ]
    },
    {
      "metadata": {
        "id": "gq0y1MMsuByX",
        "colab_type": "text"
      },
      "cell_type": "markdown",
      "source": [
        "## **Specifying the dependent features and the independent features**\n",
        "Sklearn requires the target variable in a separate dataset. So, we will drop our target variable from the train dataset and save it in another dataset.[link text](https:// [link text](https://))"
      ]
    },
    {
      "metadata": {
        "id": "7PfnPrAFuByY",
        "colab_type": "code",
        "colab": {}
      },
      "cell_type": "code",
      "source": [
        "X = final_challenge.drop(['loanDefault'], axis = 1)"
      ],
      "execution_count": 0,
      "outputs": []
    },
    {
      "metadata": {
        "id": "ogjkmhtH_E_z",
        "colab_type": "code",
        "colab": {}
      },
      "cell_type": "code",
      "source": [
        "y = final_challenge.loanDefault"
      ],
      "execution_count": 0,
      "outputs": []
    },
    {
      "metadata": {
        "id": "UWo8Q3pRZq1h",
        "colab_type": "text"
      },
      "cell_type": "markdown",
      "source": [
        "# Oversampling with **SMOTE**\n",
        "Using the SMOTE algorithm to balance our dataset"
      ]
    },
    {
      "metadata": {
        "id": "e0V5oq9fNUfh",
        "colab_type": "code",
        "colab": {}
      },
      "cell_type": "code",
      "source": [
        "os = SMOTE(random_state = 0)"
      ],
      "execution_count": 0,
      "outputs": []
    },
    {
      "metadata": {
        "id": "gKP6Xu8y-V7x",
        "colab_type": "text"
      },
      "cell_type": "markdown",
      "source": [
        "**We will use the train _test_split function from sklearn to split our data into training and testing sets**"
      ]
    },
    {
      "metadata": {
        "id": "zGa4hN09-d2C",
        "colab_type": "code",
        "colab": {}
      },
      "cell_type": "code",
      "source": [
        "X_train, X_test, y_train, y_test = train_test_split(X, y, test_size=0.3, random_state=0)\n",
        "columns = X_train.columns\n",
        "os_data_X, os_data_y = os.fit_sample(X_train, y_train)\n",
        "os_data_X = pd.DataFrame(data=os_data_X,columns=columns )\n",
        "os_data_y= pd.DataFrame(data=os_data_y,columns=['y'])"
      ],
      "execution_count": 0,
      "outputs": []
    },
    {
      "metadata": {
        "id": "sgkP70ckSrSG",
        "colab_type": "code",
        "outputId": "7e5ca0b8-4599-4971-b354-9f66bc097517",
        "colab": {
          "base_uri": "https://localhost:8080/",
          "height": 105
        }
      },
      "cell_type": "code",
      "source": [
        "#@title We now have a perfectly balanced data { vertical-output: true, display-mode: \"form\" }\n",
        "print(\"length of oversampled data is \",len(os_data_X))\n",
        "print(\"Number of no subscription in oversampled data\",len(os_data_y[os_data_y['y']==0]))\n",
        "print(\"Number of subscription\",len(os_data_y[os_data_y['y']==1]))\n",
        "print(\"Proportion of no subscription data in oversampled data is \",len(os_data_y[os_data_y['y']==0])/len(os_data_X))\n",
        "print(\"Proportion of subscription data in oversampled data is \",len(os_data_y[os_data_y['y']==1])/len(os_data_X))"
      ],
      "execution_count": 0,
      "outputs": [
        {
          "output_type": "stream",
          "text": [
            "length of oversampled data is  202764\n",
            "Number of no subscription in oversampled data 101382\n",
            "Number of subscription 101382\n",
            "Proportion of no subscription data in oversampled data is  0.5\n",
            "Proportion of subscription data in oversampled data is  0.5\n"
          ],
          "name": "stdout"
        }
      ]
    },
    {
      "metadata": {
        "id": "eWGcwokJRceR",
        "colab_type": "text"
      },
      "cell_type": "markdown",
      "source": [
        "## **Implementing the model**"
      ]
    },
    {
      "metadata": {
        "id": "bjx5g9L6RlM0",
        "colab_type": "code",
        "outputId": "2bc5348b-bcf0-4c53-b2a2-cda3656d7082",
        "colab": {
          "base_uri": "https://localhost:8080/",
          "height": 561
        }
      },
      "cell_type": "code",
      "source": [
        "rand_forest_model = sm.Logit(os_data_y, os_data_X)\n",
        "result = rand_forest_model.fit()\n",
        "print(result.summary2())"
      ],
      "execution_count": 0,
      "outputs": [
        {
          "output_type": "stream",
          "text": [
            "Warning: Maximum number of iterations has been exceeded.\n",
            "         Current function value: 0.521711\n",
            "         Iterations: 35\n",
            "                               Results: Logit\n",
            "============================================================================\n",
            "Model:                  Logit               No. Iterations:      35.0000    \n",
            "Dependent Variable:     y                   Pseudo R-squared:    0.247      \n",
            "Date:                   2019-04-14 21:08    AIC:                 211596.4460\n",
            "No. Observations:       202764              BIC:                 211739.5232\n",
            "Df Model:               13                  Log-Likelihood:      -1.0578e+05\n",
            "Df Residuals:           202750              LL-Null:             -1.4055e+05\n",
            "Converged:              0.0000              Scale:               1.0000     \n",
            "----------------------------------------------------------------------------\n",
            "                      Coef.    Std.Err.    z     P>|z|    [0.025     0.975] \n",
            "----------------------------------------------------------------------------\n",
            "clientIncome           -0.0000   0.0000  -4.1219 0.0000    -0.0000   -0.0000\n",
            "clientAge              -0.0153   0.0007 -21.2298 0.0000    -0.0167   -0.0139\n",
            "clientGender            0.0483   0.0124   3.9079 0.0001     0.0241    0.0725\n",
            "clientMaritalStatus     0.0028   0.0041   0.6860 0.4927    -0.0053    0.0109\n",
            "clientstate            -0.0036   0.0005  -6.7035 0.0000    -0.0047   -0.0026\n",
            "loanNumber             -0.0794   0.0026 -30.8241 0.0000    -0.0845   -0.0744\n",
            "loanAmount              0.0000   0.0000   7.7740 0.0000     0.0000    0.0000\n",
            "interestRate            0.0105   0.0016   6.7330 0.0000     0.0074    0.0135\n",
            "loanTerm               -0.0016   0.0002  -7.0286 0.0000    -0.0020   -0.0011\n",
            "max_amount_taken       -0.1705   0.0139 -12.2275 0.0000    -0.1978   -0.1432\n",
            "max_tenor_taken         0.3535   0.0242  14.6131 0.0000     0.3061    0.4009\n",
            "settleDays              0.0307   0.0005  61.4390 0.0000     0.0298    0.0317\n",
            "firstPaymentRatio   -1119.9008  74.7331 -14.9853 0.0000 -1266.3751 -973.4266\n",
            "firstPaymentDefault     1.1865   0.0186  63.7050 0.0000     1.1500    1.2230\n",
            "============================================================================\n",
            "\n"
          ],
          "name": "stdout"
        }
      ]
    },
    {
      "metadata": {
        "id": "aJege5r9_v1w",
        "colab_type": "text"
      },
      "cell_type": "markdown",
      "source": [
        "**We will be using features with p-value <= 0.05.**\n",
        "A p-value helps you determine the significance of your results. The lower the p-value (<= 0.05), the better."
      ]
    },
    {
      "metadata": {
        "id": "Z1Ept622uByy",
        "colab_type": "code",
        "outputId": "89256fe6-62e7-439e-d7c8-04ca6bdc8ee7",
        "colab": {
          "base_uri": "https://localhost:8080/",
          "height": 561
        }
      },
      "cell_type": "code",
      "source": [
        "cols = ['clientAge', 'clientGender', 'loanNumber', 'loanAmount', 'loanTerm', 'max_amount_taken', 'settleDays', 'firstPaymentDefault', 'max_tenor_taken', 'firstPaymentRatio', 'clientIncome', 'clientstate', 'interestRate']\n",
        "X_new = os_data_X[cols]\n",
        "y_new = os_data_y['y']\n",
        "rand_forest_model = sm.Logit(y, X)\n",
        "result = rand_forest_model.fit()\n",
        "print(result.summary2())"
      ],
      "execution_count": 0,
      "outputs": [
        {
          "output_type": "stream",
          "text": [
            "Optimization terminated successfully.\n",
            "         Current function value: 0.253642\n",
            "         Iterations 17\n",
            "                              Results: Logit\n",
            "==========================================================================\n",
            "Model:                 Logit               No. Iterations:      17.0000   \n",
            "Dependent Variable:    loanDefault         Pseudo R-squared:    0.181     \n",
            "Date:                  2019-04-14 21:09    AIC:                 80988.4056\n",
            "No. Observations:      159596              BIC:                 81128.1313\n",
            "Df Model:              13                  Log-Likelihood:      -40480.   \n",
            "Df Residuals:          159582              LL-Null:             -49446.   \n",
            "Converged:             1.0000              Scale:               1.0000    \n",
            "--------------------------------------------------------------------------\n",
            "                      Coef.   Std.Err.    z     P>|z|    [0.025    0.975] \n",
            "--------------------------------------------------------------------------\n",
            "clientIncome          -0.0000   0.0000  -3.7636 0.0002   -0.0000   -0.0000\n",
            "clientAge             -0.0313   0.0012 -25.0686 0.0000   -0.0338   -0.0289\n",
            "clientGender           0.0199   0.0202   0.9855 0.3244   -0.0197    0.0595\n",
            "clientMaritalStatus   -0.0553   0.0068  -8.0992 0.0000   -0.0687   -0.0419\n",
            "clientstate           -0.0085   0.0009  -9.4764 0.0000   -0.0102   -0.0067\n",
            "loanNumber            -0.0814   0.0047 -17.2643 0.0000   -0.0906   -0.0722\n",
            "loanAmount             0.0000   0.0000   0.4565 0.6480   -0.0000    0.0000\n",
            "interestRate          -0.0307   0.0027 -11.5170 0.0000   -0.0360   -0.0255\n",
            "loanTerm              -0.0085   0.0004 -20.4794 0.0000   -0.0093   -0.0076\n",
            "max_amount_taken      -0.2134   0.0238  -8.9750 0.0000   -0.2600   -0.1668\n",
            "max_tenor_taken        0.1541   0.0393   3.9243 0.0001    0.0772    0.2311\n",
            "settleDays             0.0142   0.0004  34.4645 0.0000    0.0134    0.0150\n",
            "firstPaymentRatio   -137.0163   9.2497 -14.8130 0.0000 -155.1455 -118.8872\n",
            "firstPaymentDefault    1.5025   0.0242  61.9751 0.0000    1.4549    1.5500\n",
            "==========================================================================\n",
            "\n"
          ],
          "name": "stdout"
        }
      ]
    },
    {
      "metadata": {
        "id": "vnabgnFsT5iF",
        "colab_type": "code",
        "colab": {}
      },
      "cell_type": "code",
      "source": [
        "X_NN = X_new.copy()\n",
        "y_NN = y_new.copy() #Reserved data for Neural Net"
      ],
      "execution_count": 0,
      "outputs": []
    },
    {
      "metadata": {
        "id": "oH6HV1aLDATM",
        "colab_type": "code",
        "colab": {}
      },
      "cell_type": "code",
      "source": [
        "X_test_new = X_test[cols]\n",
        "X_test_NN = X_test_new.copy()\n"
      ],
      "execution_count": 0,
      "outputs": []
    },
    {
      "metadata": {
        "id": "AQz_y-WsY-qY",
        "colab_type": "text"
      },
      "cell_type": "markdown",
      "source": [
        "# **Random Forest Model Fitting**"
      ]
    },
    {
      "metadata": {
        "id": "T-7gssxOSKRx",
        "colab_type": "code",
        "outputId": "81d1fb49-9546-477c-d35a-9b529a658b0d",
        "colab": {
          "base_uri": "https://localhost:8080/",
          "height": 122
        }
      },
      "cell_type": "code",
      "source": [
        "clf = RandomForestClassifier(random_state=1, max_depth=25)\n",
        "clf.fit(X_new, y_new)"
      ],
      "execution_count": 0,
      "outputs": [
        {
          "output_type": "execute_result",
          "data": {
            "text/plain": [
              "RandomForestClassifier(bootstrap=True, class_weight=None, criterion='gini',\n",
              "            max_depth=25, max_features='auto', max_leaf_nodes=None,\n",
              "            min_impurity_decrease=0.0, min_impurity_split=None,\n",
              "            min_samples_leaf=1, min_samples_split=2,\n",
              "            min_weight_fraction_leaf=0.0, n_estimators=10, n_jobs=None,\n",
              "            oob_score=False, random_state=1, verbose=0, warm_start=False)"
            ]
          },
          "metadata": {
            "tags": []
          },
          "execution_count": 15
        }
      ]
    },
    {
      "metadata": {
        "id": "z5OM_NqIT4wb",
        "colab_type": "code",
        "outputId": "d02e7215-8da3-415c-c95d-3f2b418acb63",
        "colab": {
          "base_uri": "https://localhost:8080/",
          "height": 35
        }
      },
      "cell_type": "code",
      "source": [
        "y_predict = clf.predict(X_test_new)\n",
        "print('Accuracy of Random Forest classifier on test set: {:.2f}'.format(clf.score(X_test_new, y_test)))"
      ],
      "execution_count": 0,
      "outputs": [
        {
          "output_type": "stream",
          "text": [
            "Accuracy of Random Forest classifier on test set: 0.90\n"
          ],
          "name": "stdout"
        }
      ]
    },
    {
      "metadata": {
        "id": "6Y1P_AUMi7Ox",
        "colab_type": "text"
      },
      "cell_type": "markdown",
      "source": [
        "# **Evaluating the Random Forest Algorithm**"
      ]
    },
    {
      "metadata": {
        "id": "R0HAE6xvVPta",
        "colab_type": "text"
      },
      "cell_type": "markdown",
      "source": [
        "### Confusion **Matrix**"
      ]
    },
    {
      "metadata": {
        "id": "t4R4HNq-MTHu",
        "colab_type": "code",
        "outputId": "c39d299e-b23c-4ecf-cdc5-dce5516696e4",
        "colab": {
          "base_uri": "https://localhost:8080/",
          "height": 53
        }
      },
      "cell_type": "code",
      "source": [
        "confusion_matrix = confusion_matrix(y_test, y_predict)\n",
        "print(confusion_matrix)"
      ],
      "execution_count": 0,
      "outputs": [
        {
          "output_type": "stream",
          "text": [
            "[[41464  1880]\n",
            " [ 3132  1403]]\n"
          ],
          "name": "stdout"
        }
      ]
    },
    {
      "metadata": {
        "id": "QkL6RDFRYYZN",
        "colab_type": "text"
      },
      "cell_type": "markdown",
      "source": [
        "### **Compute precision, recall, F-measure and support**\n",
        "\n",
        "\n"
      ]
    },
    {
      "metadata": {
        "id": "34Xwm2t5WArr",
        "colab_type": "code",
        "outputId": "29068bff-e417-4b60-b784-dd6eb044b3c8",
        "colab": {
          "base_uri": "https://localhost:8080/",
          "height": 175
        }
      },
      "cell_type": "code",
      "source": [
        "print(classification_report(y_test, y_predict))"
      ],
      "execution_count": 0,
      "outputs": [
        {
          "output_type": "stream",
          "text": [
            "              precision    recall  f1-score   support\n",
            "\n",
            "           0       0.93      0.96      0.94     43344\n",
            "           1       0.43      0.31      0.36      4535\n",
            "\n",
            "   micro avg       0.90      0.90      0.90     47879\n",
            "   macro avg       0.68      0.63      0.65     47879\n",
            "weighted avg       0.88      0.90      0.89     47879\n",
            "\n"
          ],
          "name": "stdout"
        }
      ]
    },
    {
      "metadata": {
        "id": "DALmZiPeYrii",
        "colab_type": "text"
      },
      "cell_type": "markdown",
      "source": [
        "### **Receiver Operating Characteristic (ROC)**"
      ]
    },
    {
      "metadata": {
        "id": "xpgVj-fjWaJu",
        "colab_type": "code",
        "outputId": "c8131463-f483-4c59-cfd1-e66b940d7d9f",
        "colab": {
          "base_uri": "https://localhost:8080/",
          "height": 376
        }
      },
      "cell_type": "code",
      "source": [
        "rand_roc_curve = roc_auc_score(y_test, clf.predict(X_test_new))\n",
        "fpr, tpr, thresholds = roc_curve(y_test, clf.predict_proba(X_test_new)[:,1])\n",
        "plt.figure()\n",
        "plt.plot(fpr,tpr)\n",
        "plt.plot([0, 1], [0, 1],'r--')\n",
        "plt.xlim([0.0, 1.0])\n",
        "plt.ylim([0.0, 1.05])\n",
        "plt.xlabel('False Positive Rate')\n",
        "plt.ylabel('True Positive Rate')\n",
        "plt.title('Receiver operating characteristic')\n",
        "plt.savefig('Log_ROC')\n",
        "plt.show()"
      ],
      "execution_count": 0,
      "outputs": [
        {
          "output_type": "display_data",
          "data": {
            "image/png": "[encoded data removed]",
            "text/plain": [
              "<Figure size 576x396 with 1 Axes>"
            ]
          },
          "metadata": {
            "tags": []
          }
        }
      ]
    },
    {
      "metadata": {
        "id": "i868pnvBSI0f",
        "colab_type": "text"
      },
      "cell_type": "markdown",
      "source": [
        "# **Model Building 2 (Neural Network)**\n",
        "For this section, I have used the neural network library from sklearn. This is so that I can perform fair comparison between the two models"
      ]
    },
    {
      "metadata": {
        "id": "RkcMfwwrTWYN",
        "colab_type": "text"
      },
      "cell_type": "markdown",
      "source": [
        "To build this model, I will be using the same features I have used in the building of the Random Forest model, But this time, the feature must be scaled."
      ]
    },
    {
      "metadata": {
        "id": "8LiYKczvVBM9",
        "colab_type": "text"
      },
      "cell_type": "markdown",
      "source": [
        "**Scaling the Dataset**"
      ]
    },
    {
      "metadata": {
        "id": "hLaxQi4VS6NW",
        "colab_type": "code",
        "colab": {}
      },
      "cell_type": "code",
      "source": [
        "std = StandardScaler()\n",
        "X_NN_std = std.fit_transform(X_NN)\n",
        "X_test_NN_std = std.fit_transform(X_test_NN)"
      ],
      "execution_count": 0,
      "outputs": []
    },
    {
      "metadata": {
        "id": "ZXrvDQZFXVfr",
        "colab_type": "text"
      },
      "cell_type": "markdown",
      "source": [
        "Instantiating Multi Layer Perceptron"
      ]
    },
    {
      "metadata": {
        "id": "tiLMkOeoXTyo",
        "colab_type": "code",
        "outputId": "1ed25fac-bd69-4af7-b3eb-0199bc85f31f",
        "colab": {
          "base_uri": "https://localhost:8080/",
          "height": 140
        }
      },
      "cell_type": "code",
      "source": [
        "mlp = MLPClassifier(hidden_layer_sizes = (100,10), max_iter = 100, alpha = 1)\n",
        "mlp.fit(X_NN_std, y_NN.values.ravel())"
      ],
      "execution_count": 0,
      "outputs": [
        {
          "output_type": "execute_result",
          "data": {
            "text/plain": [
              "MLPClassifier(activation='relu', alpha=1, batch_size='auto', beta_1=0.9,\n",
              "       beta_2=0.999, early_stopping=False, epsilon=1e-08,\n",
              "       hidden_layer_sizes=(100, 10), learning_rate='constant',\n",
              "       learning_rate_init=0.001, max_iter=100, momentum=0.9,\n",
              "       n_iter_no_change=10, nesterovs_momentum=True, power_t=0.5,\n",
              "       random_state=None, shuffle=True, solver='adam', tol=0.0001,\n",
              "       validation_fraction=0.1, verbose=False, warm_start=False)"
            ]
          },
          "metadata": {
            "tags": []
          },
          "execution_count": 22
        }
      ]
    },
    {
      "metadata": {
        "id": "QBeJJK_fYw1n",
        "colab_type": "code",
        "outputId": "2d278f3a-db9b-4ba3-d1b3-672247db4378",
        "colab": {
          "base_uri": "https://localhost:8080/",
          "height": 35
        }
      },
      "cell_type": "code",
      "source": [
        "pred = mlp.predict(X_test_NN_std)\n",
        "print('Accuracy of Neural Net: {:.2f}'.format(mlp.score(X_test_NN, y_test.values.ravel())))"
      ],
      "execution_count": 0,
      "outputs": [
        {
          "output_type": "stream",
          "text": [
            "Accuracy of Neural Net: 0.91\n"
          ],
          "name": "stdout"
        }
      ]
    },
    {
      "metadata": {
        "id": "8ilpVlHljVRt",
        "colab_type": "text"
      },
      "cell_type": "markdown",
      "source": [
        "# **Evaluating the Neural Net Algorithm**"
      ]
    },
    {
      "metadata": {
        "id": "fB4CPUmvjeIu",
        "colab_type": "text"
      },
      "cell_type": "markdown",
      "source": [
        "**Confusion Matrix**"
      ]
    },
    {
      "metadata": {
        "id": "pj4MVVv6Y6lQ",
        "colab_type": "code",
        "outputId": "4ed0daa4-a74e-4d2c-f31b-98dd621e2baf",
        "colab": {
          "base_uri": "https://localhost:8080/",
          "height": 59
        }
      },
      "cell_type": "code",
      "source": [
        "confusion_matrix_NN = confusion_matrix(y_test, pred)\n",
        "print(confusion_matrix_NN)"
      ],
      "execution_count": 0,
      "outputs": [
        {
          "output_type": "stream",
          "text": [
            "[[ 9881 33463]\n",
            " [  307  4228]]\n"
          ],
          "name": "stdout"
        }
      ]
    },
    {
      "metadata": {
        "id": "luDGZBQYkMtU",
        "colab_type": "text"
      },
      "cell_type": "markdown",
      "source": [
        "**precision, recall, F-measure and support**"
      ]
    },
    {
      "metadata": {
        "id": "SqwQo-8CkRVl",
        "colab_type": "code",
        "outputId": "6ee3f5c8-527b-4650-b438-b1a2ecc9ebaf",
        "colab": {
          "base_uri": "https://localhost:8080/",
          "height": 175
        }
      },
      "cell_type": "code",
      "source": [
        "print(classification_report(y_test, pred))"
      ],
      "execution_count": 0,
      "outputs": [
        {
          "output_type": "stream",
          "text": [
            "              precision    recall  f1-score   support\n",
            "\n",
            "           0       0.97      0.23      0.37     43344\n",
            "           1       0.11      0.93      0.20      4535\n",
            "\n",
            "   micro avg       0.29      0.29      0.29     47879\n",
            "   macro avg       0.54      0.58      0.28     47879\n",
            "weighted avg       0.89      0.29      0.35     47879\n",
            "\n"
          ],
          "name": "stdout"
        }
      ]
    },
    {
      "metadata": {
        "id": "gBQKUY_6ktLc",
        "colab_type": "text"
      },
      "cell_type": "markdown",
      "source": [
        "**ROC CURVE**"
      ]
    },
    {
      "metadata": {
        "id": "oK_w7okNrydI",
        "colab_type": "text"
      },
      "cell_type": "markdown",
      "source": [
        "# **Model Comparison (Random Forest Versus Neural Network)**"
      ]
    },
    {
      "metadata": {
        "id": "WBlEbVIAsp5i",
        "colab_type": "text"
      },
      "cell_type": "markdown",
      "source": [
        "**Random forest Values**"
      ]
    },
    {
      "metadata": {
        "id": "d_0u2D3Ir8vr",
        "colab_type": "code",
        "colab": {}
      },
      "cell_type": "code",
      "source": [
        "scoring = ['accuracy', 'precision_macro', 'recall_macro' , 'f1_weighted', 'roc_auc']\n",
        "scores = cross_validate(clf, X_new, y_new, scoring = scoring, cv = 2)\n",
        "sorted(scores.keys())\n",
        "clf_fit_time = scores['fit_time'].mean()\n",
        "clf_score_time = scores['score_time'].mean()\n",
        "clf_accuracy = scores['test_accuracy'].mean()\n",
        "clf_precision = scores['test_precision_macro'].mean()\n",
        "clf_recall = scores['test_recall_macro'].mean()\n",
        "clf_f1 = scores['test_f1_weighted'].mean()\n",
        "clf_roc = scores['test_roc_auc'].mean()"
      ],
      "execution_count": 0,
      "outputs": []
    },
    {
      "metadata": {
        "id": "pS48NCHdsvoj",
        "colab_type": "text"
      },
      "cell_type": "markdown",
      "source": [
        "**Neural Network Values**"
      ]
    },
    {
      "metadata": {
        "id": "5vmnPEQCs4Q-",
        "colab_type": "code",
        "colab": {}
      },
      "cell_type": "code",
      "source": [
        "scoring = ['accuracy', 'precision_macro', 'recall_macro' , 'f1_weighted', 'roc_auc']\n",
        "scores2 = cross_validate(mlp, X_NN_std, y_NN, scoring = scoring, cv = 2)\n",
        "sorted(scores2.keys())\n",
        "mlp_fit_time = scores2['fit_time'].mean()\n",
        "mlp_score_time = scores2['score_time'].mean()\n",
        "mlp_accuracy = scores2['test_accuracy'].mean()\n",
        "mlp_precision = scores2['test_precision_macro'].mean()\n",
        "mlp_recall = scores2['test_recall_macro'].mean()\n",
        "mlp_f1 = scores2['test_f1_weighted'].mean()\n",
        "mlp_roc = scores2['test_roc_auc'].mean()"
      ],
      "execution_count": 0,
      "outputs": []
    },
    {
      "metadata": {
        "id": "Nslxm3YbtRyS",
        "colab_type": "text"
      },
      "cell_type": "markdown",
      "source": [
        "**Comparison**"
      ]
    },
    {
      "metadata": {
        "id": "29r609Tss1QP",
        "colab_type": "code",
        "colab": {}
      },
      "cell_type": "code",
      "source": [
        "models = pd.DataFrame({'Model' : ['Random Forest', 'Neural Network'], 'Fitting time':[clf_fit_time, mlp_fit_time], 'Scoring time': [clf_score_time, mlp_score_time], 'Accuracy': [clf_accuracy, mlp_accuracy], 'Precision':[clf_precision, mlp_precision], 'Recall': [clf_recall, mlp_recall], 'F1_score': [clf_f1,mlp_f1], 'AUC_ROC':[clf_roc, mlp_roc]}, columns = ['Model', 'Fitting time', 'Scoring time', 'Accuracy', 'Precision', 'Recall', 'F1_score', 'AUC_ROC']).sort_values(by = 'Accuracy', ascending = False)"
      ],
      "execution_count": 0,
      "outputs": []
    },
    {
      "metadata": {
        "id": "b7nU4KXd0s5F",
        "colab_type": "text"
      },
      "cell_type": "markdown",
      "source": [
        "# **Final comparison of models**"
      ]
    },
    {
      "metadata": {
        "id": "hUE6Z4wK0mRZ",
        "colab_type": "code",
        "outputId": "cba771d8-0c20-4f6b-8157-501b31214d59",
        "colab": {
          "base_uri": "https://localhost:8080/",
          "height": 113
        }
      },
      "cell_type": "code",
      "source": [
        "models"
      ],
      "execution_count": 0,
      "outputs": [
        {
          "output_type": "execute_result",
          "data": {
            "text/html": [
              "<div>\n",
              "<style scoped>\n",
              "    .dataframe tbody tr th:only-of-type {\n",
              "        vertical-align: middle;\n",
              "    }\n",
              "\n",
              "    .dataframe tbody tr th {\n",
              "        vertical-align: top;\n",
              "    }\n",
              "\n",
              "    .dataframe thead th {\n",
              "        text-align: right;\n",
              "    }\n",
              "</style>\n",
              "<table border=\"1\" class=\"dataframe\">\n",
              "  <thead>\n",
              "    <tr style=\"text-align: right;\">\n",
              "      <th></th>\n",
              "      <th>Model</th>\n",
              "      <th>Fitting time</th>\n",
              "      <th>Scoring time</th>\n",
              "      <th>Accuracy</th>\n",
              "      <th>Precision</th>\n",
              "      <th>Recall</th>\n",
              "      <th>F1_score</th>\n",
              "      <th>AUC_ROC</th>\n",
              "    </tr>\n",
              "  </thead>\n",
              "  <tbody>\n",
              "    <tr>\n",
              "      <th>0</th>\n",
              "      <td>Random Forest</td>\n",
              "      <td>1.622147</td>\n",
              "      <td>1.064474</td>\n",
              "      <td>0.927462</td>\n",
              "      <td>0.932406</td>\n",
              "      <td>0.927462</td>\n",
              "      <td>0.927190</td>\n",
              "      <td>0.976312</td>\n",
              "    </tr>\n",
              "    <tr>\n",
              "      <th>1</th>\n",
              "      <td>Neural Network</td>\n",
              "      <td>75.334494</td>\n",
              "      <td>1.680040</td>\n",
              "      <td>0.841836</td>\n",
              "      <td>0.843558</td>\n",
              "      <td>0.841836</td>\n",
              "      <td>0.841628</td>\n",
              "      <td>0.921122</td>\n",
              "    </tr>\n",
              "  </tbody>\n",
              "</table>\n",
              "</div>"
            ],
            "text/plain": [
              "            Model  Fitting time  Scoring time  Accuracy  Precision    Recall  \\\n",
              "0   Random Forest      1.622147      1.064474  0.927462   0.932406  0.927462   \n",
              "1  Neural Network     75.334494      1.680040  0.841836   0.843558  0.841836   \n",
              "\n",
              "   F1_score   AUC_ROC  \n",
              "0  0.927190  0.976312  \n",
              "1  0.841628  0.921122  "
            ]
          },
          "metadata": {
            "tags": []
          },
          "execution_count": 33
        }
      ]
    }
  ]
}